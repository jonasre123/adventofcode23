{
 "cells": [
  {
   "cell_type": "code",
   "execution_count": 102,
   "metadata": {},
   "outputs": [
    {
     "name": "stdout",
     "output_type": "stream",
     "text": [
      "56465\n"
     ]
    }
   ],
   "source": [
    "#part 1\n",
    "import re\n",
    "\n",
    "numbers = []\n",
    "\n",
    "with open(\"12-01-input1.txt\", \"r\") as file:\n",
    "    for line in file.readlines():\n",
    "        first = re.findall(r'\\d', line)[0] \n",
    "        last = re.findall(r'\\d', line)[-1]\n",
    "        number = first + last\n",
    "        numbers.append(int(number))\n",
    "\n",
    "print(sum(numbers))\n",
    "\n"
   ]
  },
  {
   "cell_type": "code",
   "execution_count": 69,
   "metadata": {},
   "outputs": [],
   "source": [
    "# part 2\n",
    "# first I checked whether numbers above ten are in the strings\n",
    "import re\n",
    "\n",
    "check = ['zero','teen', 'twenty', 'thirty', 'fourty', 'fifty', 'sixty', 'seventy', 'eighty', 'ninety', 'hundred', 'thousand', 'twelve', 'eleven']\n",
    "\n",
    "with open(\"12-01-input1.txt\", \"r\") as file:\n",
    "    lines = file.readlines()\n",
    "    for item in lines:\n",
    "        for item in check:\n",
    "            if item in lines:\n",
    "                print(\"Found\")\n",
    "            #else:\n",
    "                #print(\"No numbers higher than 10 in the strings\")\n",
    "\n"
   ]
  },
  {
   "cell_type": "code",
   "execution_count": 101,
   "metadata": {},
   "outputs": [
    {
     "name": "stdout",
     "output_type": "stream",
     "text": [
      "55902\n"
     ]
    }
   ],
   "source": [
    "# CntSubstr-function taken from https://www.geeksforgeeks.org/python-program-to-find-indices-of-overlapping-substrings/\n",
    "import re\n",
    "\n",
    "def CntSubstr(pattern, string):\n",
    "\ta = [m.start() for m in re.finditer('(?={0})'.format(re.escape(pattern)), string)]\n",
    "\treturn a\n",
    "\n",
    "numletters = {'0': 'zero', '1': 'one', '2': 'two', '3': 'three', '4': 'four', '5': 'five', '6': 'six', '7': 'seven', '8': 'eight', '9': 'nine'}\n",
    "\n",
    "final_result = []\n",
    "with open('12-01-input1.txt', 'r') as file:\n",
    "     string = file.readlines()\n",
    "     for line in string:\n",
    "        dictmy = {}\n",
    "        for value in numletters.values():\n",
    "            index = CntSubstr(value,line)\n",
    "            for item in index:\n",
    "                dictmy[item] = value\n",
    "        for key in numletters.keys():\n",
    "            index = CntSubstr(key,line)\n",
    "            for item in index:\n",
    "                dictmy[item] = key\n",
    "        min_key = min(dictmy.keys())\n",
    "        max_key = max(dictmy.keys())\n",
    "        result = []\n",
    "        result.append(str(dictmy[min_key]) + str(dictmy[max_key]))\n",
    "        for item in result:\n",
    "            item = item.replace('zero','0').replace('one','1').replace('two','2').replace('three','3').replace('four','4').replace('five','5').replace('six','6').replace('seven','7').replace('eight','8').replace('nine','9')\n",
    "            final_result.append(int(item))\n",
    "    \n",
    "print(sum(final_result))\n"
   ]
  }
 ],
 "metadata": {
  "kernelspec": {
   "display_name": "Python 3",
   "language": "python",
   "name": "python3"
  },
  "language_info": {
   "codemirror_mode": {
    "name": "ipython",
    "version": 3
   },
   "file_extension": ".py",
   "mimetype": "text/x-python",
   "name": "python",
   "nbconvert_exporter": "python",
   "pygments_lexer": "ipython3",
   "version": "3.12.0"
  }
 },
 "nbformat": 4,
 "nbformat_minor": 2
}
