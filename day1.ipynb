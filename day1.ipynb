{
 "cells": [
  {
   "cell_type": "code",
   "execution_count": null,
   "metadata": {},
   "outputs": [],
   "source": [
    "'''\n",
    "On each line, the calibration value can be found by combining the first digit and the last digit (in that order) to form a single two-digit number.\n",
    "\n",
    "For example:\n",
    "\n",
    "1abc2\n",
    "pqr3stu8vwx\n",
    "a1b2c3d4e5f\n",
    "treb7uchet\n",
    "\n",
    "In this example, the calibration values of these four lines are 12, 38, 15, and 77. Adding these together produces 142.\n",
    "\n",
    "Consider your entire calibration document. What is the sum of all of the calibration values?\n",
    "'''"
   ]
  },
  {
   "cell_type": "code",
   "execution_count": 28,
   "metadata": {},
   "outputs": [
    {
     "name": "stdout",
     "output_type": "stream",
     "text": [
      "56465\n"
     ]
    }
   ],
   "source": [
    "# read line\n",
    "# start from beginning til first number, store in variable\n",
    "# start from end til first number, store in variable\n",
    "import re\n",
    "\n",
    "lines = ['1abc2', 'pqr3stu8vwx', 'a1b2c3d4e5f', 'treb7uchet']\n",
    "\n",
    "numbers = []\n",
    "\n",
    "with open(\"12-01-input1.txt\", \"r\") as file:\n",
    "    for line in file.readlines():\n",
    "        first = re.findall(r'\\d', line)[0] \n",
    "        last = re.findall(r'\\d', line)[-1]\n",
    "        number = first + last\n",
    "        numbers.append(int(number))\n",
    "\n",
    "print(sum(numbers))\n",
    "\n"
   ]
  },
  {
   "cell_type": "code",
   "execution_count": 69,
   "metadata": {},
   "outputs": [],
   "source": [
    "'''\n",
    "two1nine\n",
    "eightwothree\n",
    "abcone2threexyz\n",
    "xtwone3four\n",
    "4nineeightseven2\n",
    "zoneight234\n",
    "7pqrstsixteen\n",
    "\n",
    "In this example, the calibration values are 29, 83, 13, 24, 42, 14, and 76. Adding these together produces 281.\n",
    "'''\n",
    "import re\n",
    "\n",
    "check = ['ten','zero','teen', 'twenty', 'thirty', 'fourty', 'fifty', 'sixty', 'seventy', 'eighty', 'ninety', 'hundred', 'thousand', 'twelve', 'eleven']\n",
    "\n",
    "with open(\"12-01-input1.txt\", \"r\") as file:\n",
    "    lines = file.readlines()\n",
    "    for item in lines:\n",
    "        for item in check:\n",
    "            if item in lines:\n",
    "                print(\"Found\")\n",
    "            #else:\n",
    "                #print(\"No numbers higher than 12 in the strings\")\n",
    "\n"
   ]
  },
  {
   "cell_type": "code",
   "execution_count": 80,
   "metadata": {},
   "outputs": [
    {
     "name": "stdout",
     "output_type": "stream",
     "text": [
      "{4: 'two', 7: 'three', 0: 'eight', 15: 'eight', 12: '1', 13: '2', 14: '3'}\n",
      "{0: 'eight', 4: 'two', 7: 'three', 12: '1', 13: '2', 14: '3', 15: 'eight'}\n"
     ]
    },
    {
     "data": {
      "text/plain": [
       "'#get the index start\\n# append to dict start + match\\n# combine highest and lowest index match\\n#https://docs.python.org/2/library/re.html#re.finditer\\n#https://www.geeksforgeeks.org/python-program-to-find-indices-of-overlapping-substrings/\\n'"
      ]
     },
     "execution_count": 80,
     "metadata": {},
     "output_type": "execute_result"
    }
   ],
   "source": [
    "# CntSubstr-function taken from https://www.geeksforgeeks.org/python-program-to-find-indices-of-overlapping-substrings/\n",
    "import re\n",
    "\n",
    "def CntSubstr(pattern, string):\n",
    "\ta = [m.start() for m in re.finditer('(?={0})'.format(re.escape(pattern)), string)]\n",
    "\treturn a\n",
    "\n",
    "numletters = {'0': 'zero', '1': 'one', '2': 'two', '3': 'three', '4': 'four', '5': 'five', '6': 'six', '7': 'seven', '8': 'eight', '9': 'nine'}\n",
    "#string = 'eightwothree123eight'\n",
    "dictmy = {}\n",
    "\n",
    "with open('12-01-input1.txt', 'r') as file:\n",
    "     \n",
    "\n",
    "for value in numletters.values():\n",
    "    index = CntSubstr(value,string)\n",
    "    for item in index:\n",
    "        dictmy[item] = value\n",
    "for key in numletters.keys():\n",
    "    index = CntSubstr(key,string)\n",
    "    for item in index:\n",
    "        dictmy[item] = key\n",
    "\n",
    "print(dictmy)\n",
    "sorted_dict = dict(sorted(dictmy.items()))\n",
    "print(sorted_dict)\n",
    "    \n",
    "#    result = re.finditer(value,string)\n",
    "'''    if result != None:\n",
    "        print(result)\n",
    "        \n",
    "for key in numletters.keys():\n",
    "    result = re.search(key,string)\n",
    "    if result != None:\n",
    "        print(result)\n",
    "        print(result.start())'''\n",
    "'''#get the index start\n",
    "# append to dict start + match\n",
    "# combine highest and lowest index match\n",
    "#https://docs.python.org/2/library/re.html#re.finditer\n",
    "#https://www.geeksforgeeks.org/python-program-to-find-indices-of-overlapping-substrings/\n",
    "'''\n"
   ]
  }
 ],
 "metadata": {
  "kernelspec": {
   "display_name": "Python 3",
   "language": "python",
   "name": "python3"
  },
  "language_info": {
   "codemirror_mode": {
    "name": "ipython",
    "version": 3
   },
   "file_extension": ".py",
   "mimetype": "text/x-python",
   "name": "python",
   "nbconvert_exporter": "python",
   "pygments_lexer": "ipython3",
   "version": "3.12.0"
  }
 },
 "nbformat": 4,
 "nbformat_minor": 2
}
